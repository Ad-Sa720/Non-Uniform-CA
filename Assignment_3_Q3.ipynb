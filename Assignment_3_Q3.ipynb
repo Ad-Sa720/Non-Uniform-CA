{
  "nbformat": 4,
  "nbformat_minor": 0,
  "metadata": {
    "colab": {
      "provenance": [],
      "authorship_tag": "ABX9TyMAI/YLA/2f0QB5vHwH5nz7",
      "include_colab_link": true
    },
    "kernelspec": {
      "name": "python3",
      "display_name": "Python 3"
    },
    "language_info": {
      "name": "python"
    }
  },
  "cells": [
    {
      "cell_type": "markdown",
      "metadata": {
        "id": "view-in-github",
        "colab_type": "text"
      },
      "source": [
        "<a href=\"https://colab.research.google.com/github/Ad-Sa720/Non-Uniform-CA/blob/main/Assignment_3_Q3.ipynb\" target=\"_parent\"><img src=\"https://colab.research.google.com/assets/colab-badge.svg\" alt=\"Open In Colab\"/></a>"
      ]
    },
    {
      "cell_type": "code",
      "source": [
        "import random\n",
        "\n",
        "def apply_rule(rule, neighborhood):\n",
        "    \"\"\"Apply the rule to the given neighborhood\"\"\"\n",
        "    return (rule >> int(''.join(map(str, neighborhood)), 2)) & 1\n",
        "\n",
        "def evolve(config, rules):\n",
        "    \"\"\"Evolve the hybrid cellular automaton for one time step\"\"\"\n",
        "    size = len(config)\n",
        "    new_config = config.copy()\n",
        "\n",
        "    for i in range(size):\n",
        "        # Determine the neighborhood for the current cell\n",
        "        if i == 0:\n",
        "            neighborhood = [0, config[i], config[i + 1]]\n",
        "        elif i == size - 1:\n",
        "            neighborhood = [config[i - 1], config[i], 0]\n",
        "        else:\n",
        "            neighborhood = [config[i - 1], config[i], config[i + 1]]\n",
        "\n",
        "        # Apply the corresponding rule to the neighborhood\n",
        "        new_config[i] = apply_rule(rules[i], neighborhood)\n",
        "\n",
        "    return new_config\n",
        "\n",
        "def print_config(config):\n",
        "    \"\"\"Print the current configuration\"\"\"\n",
        "    print(''.join(map(str, config)))\n",
        "\n",
        "def run_hybrid_cellular_automaton(size, rules, time_steps):\n",
        "    \"\"\"Run the hybrid cellular automaton for the given number of time steps\"\"\"\n",
        "\n",
        "    if len(rules) != size:\n",
        "        print(\"Error: The size of the rules list must match the desired size of the automaton.\")\n",
        "        return\n",
        "\n",
        "    config = [random.randint(0, 1) for _ in range(size)]  # Random initial configuration\n",
        "    print_config(config)\n",
        "\n",
        "    for _ in range(time_steps):\n",
        "        config = evolve(config, rules)\n",
        "        print_config(config)\n",
        "\n",
        "# Program Execution\n",
        "size = 4  # Size of the one-dimensional lattice\n",
        "rule_vector = input(\"Enter the ECA rules as a comma-separated list: \").split(',')  # ECA rules as a list\n",
        "rules = [int(rule) for rule in rule_vector]  # Convert rules to integers\n",
        "\n",
        "time_steps = 10  # Number of time steps\n",
        "\n",
        "run_hybrid_cellular_automaton(size, rules, time_steps)"
      ],
      "metadata": {
        "colab": {
          "base_uri": "https://localhost:8080/"
        },
        "id": "WlwpcJqwpCKc",
        "outputId": "f9885cb4-5c71-4897-ce06-0e4735cc4db3"
      },
      "execution_count": 3,
      "outputs": [
        {
          "output_type": "stream",
          "name": "stdout",
          "text": [
            "Enter the ECA rules as a comma-separated list: 90,90,90,90,90\n",
            "Error: The size of the rules list must match the desired size of the automaton.\n"
          ]
        }
      ]
    }
  ]
}