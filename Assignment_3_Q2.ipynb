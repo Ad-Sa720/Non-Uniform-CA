{
  "nbformat": 4,
  "nbformat_minor": 0,
  "metadata": {
    "colab": {
      "provenance": [],
      "authorship_tag": "ABX9TyMJky4wRkYtP7hzxRBuWWip",
      "include_colab_link": true
    },
    "kernelspec": {
      "name": "python3",
      "display_name": "Python 3"
    },
    "language_info": {
      "name": "python"
    }
  },
  "cells": [
    {
      "cell_type": "markdown",
      "metadata": {
        "id": "view-in-github",
        "colab_type": "text"
      },
      "source": [
        "<a href=\"https://colab.research.google.com/github/Ad-Sa720/Non-Uniform-CA/blob/main/Assignment_3_Q2.ipynb\" target=\"_parent\"><img src=\"https://colab.research.google.com/assets/colab-badge.svg\" alt=\"Open In Colab\"/></a>"
      ]
    },
    {
      "cell_type": "code",
      "source": [
        "import random\n",
        "\n",
        "def apply_rule(rule, neighborhood):\n",
        "    \"\"\"Apply the rule to the given neighborhood\"\"\"\n",
        "    return (rule >> int(''.join(map(str, neighborhood[::-1])))) & 1\n",
        "\n",
        "def evolve(config, rule):\n",
        "    \"\"\"Evolve the cellular automaton for one time step\"\"\"\n",
        "    size = len(config)\n",
        "    new_config = config.copy()\n",
        "\n",
        "    # Randomly select a cell to update\n",
        "    cell_index = random.randint(0, size - 1)\n",
        "    neighborhood = [config[(cell_index - 1) % size], config[cell_index], config[(cell_index + 1) % size]]\n",
        "    new_config[cell_index] = apply_rule(rule, neighborhood)\n",
        "\n",
        "    return new_config\n",
        "\n",
        "def print_config(config):\n",
        "    \"\"\"Print the current configuration\"\"\"\n",
        "    print(''.join(map(str, config)))\n",
        "\n",
        "def run_cellular_automaton(size, rule, time_steps):\n",
        "    \"\"\"Run the cellular automaton for the given number of time steps\"\"\"\n",
        "    config = [random.randint(0, 1) for _ in range(size)]  # Random initial configuration\n",
        "    print_config(config)\n",
        "\n",
        "    for _ in range(time_steps):\n",
        "        config = evolve(config, rule)\n",
        "        print_config(config)\n",
        "\n",
        "# Program Execution\n",
        "size = 20  # Size of the one-dimensional lattice\n",
        "rule = int(input(\"Enter ECA rule (0-255): \"))  # ECA rule\n",
        "time_steps = 10  # Number of time steps\n",
        "print('size =', size, ', time steps =', time_steps)\n",
        "# Validate the entered ECA rule\n",
        "if rule < 0 or rule > 255:\n",
        "    print(\"Invalid ECA rule. Please enter a value between 0 and 255.\")\n",
        "    exit()\n",
        "\n",
        "else:\n",
        "   run_cellular_automaton(size, rule, time_steps)\n"
      ],
      "metadata": {
        "id": "ukXJtFDO_lqQ"
      },
      "execution_count": null,
      "outputs": []
    }
  ]
}