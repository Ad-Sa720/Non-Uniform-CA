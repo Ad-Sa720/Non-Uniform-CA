{
  "nbformat": 4,
  "nbformat_minor": 0,
  "metadata": {
    "colab": {
      "provenance": [],
      "authorship_tag": "ABX9TyMiW6kfLjpJI6RRX04i5be+",
      "include_colab_link": true
    },
    "kernelspec": {
      "name": "python3",
      "display_name": "Python 3"
    },
    "language_info": {
      "name": "python"
    }
  },
  "cells": [
    {
      "cell_type": "markdown",
      "metadata": {
        "id": "view-in-github",
        "colab_type": "text"
      },
      "source": [
        "<a href=\"https://colab.research.google.com/github/Ad-Sa720/Non-Uniform-CA/blob/main/Assignment_3_Q3_updated.ipynb\" target=\"_parent\"><img src=\"https://colab.research.google.com/assets/colab-badge.svg\" alt=\"Open In Colab\"/></a>"
      ]
    },
    {
      "cell_type": "code",
      "execution_count": null,
      "metadata": {
        "id": "6oDYl7ghfjen"
      },
      "outputs": [],
      "source": [
        "import random\n",
        "\n",
        "def apply_rule(rule, neighborhood):\n",
        "    \"\"\"Apply the rule to the given neighborhood\"\"\"\n",
        "    return (rule >> int(''.join(map(str, neighborhood)), 2)) & 1\n",
        "\n",
        "def evolve(config, rules):\n",
        "    \"\"\"Evolve the hybrid cellular automaton for one time step\"\"\"\n",
        "    size = len(config)\n",
        "    new_config = config.copy()\n",
        "\n",
        "    for i in range(size):\n",
        "        # Determine the neighborhood for the current cell\n",
        "        if i == 0:\n",
        "            neighborhood = [0, config[i], config[i + 1]]\n",
        "        elif i == size - 1:\n",
        "            neighborhood = [config[i - 1], config[i], 0]\n",
        "        else:\n",
        "            neighborhood = [config[i - 1], config[i], config[i + 1]]\n",
        "\n",
        "        # Apply the corresponding rule to the neighborhood\n",
        "        new_config[i] = apply_rule(rules[i], neighborhood)\n",
        "\n",
        "    return new_config\n",
        "\n",
        "def print_config(config):\n",
        "    \"\"\"Print the current configuration\"\"\"\n",
        "    print(''.join(map(str, config)))\n",
        "\n",
        "def run_hybrid_cellular_automaton(size, rules, time_steps):\n",
        "    \"\"\"Run the hybrid cellular automaton for the given number of time steps\"\"\"\n",
        "    try:\n",
        "        if len(rules) != size:\n",
        "            raise ValueError(\"The size of the rules list must match the desired size of the automaton.\")\n",
        "\n",
        "        config = [random.randint(0, 1) for _ in range(size)]  # Random initial configuration\n",
        "        print_config(config)\n",
        "\n",
        "        for _ in range(time_steps):\n",
        "            config = evolve(config, rules)\n",
        "            print_config(config)\n",
        "    except ValueError as e:\n",
        "        print(f\"Error: {e}\")\n",
        "\n",
        "# Program Execution\n",
        "size = 4  # Size of the one-dimensional lattice\n",
        "rule_vector = input(\"Enter the ECA rules as a comma-separated list: \").split(',')  # ECA rules as a list\n",
        "rules = [int(rule) for rule in rule_vector]  # Convert rules to integers\n",
        "\n",
        "time_steps = 10  # Number of time steps\n",
        "\n",
        "run_hybrid_cellular_automaton(size, rules, time_steps)"
      ]
    }
  ]
}