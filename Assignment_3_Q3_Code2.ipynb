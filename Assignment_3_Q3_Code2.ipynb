{
  "nbformat": 4,
  "nbformat_minor": 0,
  "metadata": {
    "colab": {
      "provenance": [],
      "authorship_tag": "ABX9TyPsP5dMJ7nDvqVcBPDiguE/",
      "include_colab_link": true
    },
    "kernelspec": {
      "name": "python3",
      "display_name": "Python 3"
    },
    "language_info": {
      "name": "python"
    }
  },
  "cells": [
    {
      "cell_type": "markdown",
      "metadata": {
        "id": "view-in-github",
        "colab_type": "text"
      },
      "source": [
        "<a href=\"https://colab.research.google.com/github/Ad-Sa720/Non-Uniform-CA/blob/main/Assignment_3_Q3_Code2.ipynb\" target=\"_parent\"><img src=\"https://colab.research.google.com/assets/colab-badge.svg\" alt=\"Open In Colab\"/></a>"
      ]
    },
    {
      "cell_type": "code",
      "execution_count": null,
      "metadata": {
        "id": "jNoQWccuprUn"
      },
      "outputs": [],
      "source": [
        "#Input (only) two ECA rules to alternate over the 1D Lattice\n",
        "import random\n",
        "\n",
        "def apply_rule(rule, neighborhood):\n",
        "    \"\"\"Apply the rule to the given neighborhood\"\"\"\n",
        "    return (rule >> int(''.join(map(str, neighborhood)), 2)) & 1\n",
        "\n",
        "def evolve(config, rules):\n",
        "    \"\"\"Evolve the hybrid cellular automaton for one time step\"\"\"\n",
        "    size = len(config)\n",
        "    new_config = config.copy()\n",
        "\n",
        "    for i in range(size):\n",
        "        # Determine the neighborhood for the current cell\n",
        "        if i == 0:\n",
        "            neighborhood = [0, config[i], config[i + 1]]\n",
        "        elif i == size - 1:\n",
        "            neighborhood = [config[i - 1], config[i], 0]\n",
        "        else:\n",
        "            neighborhood = [config[i - 1], config[i], config[i + 1]]\n",
        "\n",
        "        # Apply the corresponding rule to the neighborhood\n",
        "        new_config[i] = apply_rule(rules[i % len(rules)], neighborhood)\n",
        "\n",
        "    return new_config\n",
        "\n",
        "def print_config(config):\n",
        "    \"\"\"Print the current configuration\"\"\"\n",
        "    print(''.join(map(str, config)))\n",
        "\n",
        "def run_hybrid_cellular_automaton(size, rules, time_steps):\n",
        "    \"\"\"Run the hybrid cellular automaton for the given number of time steps\"\"\"\n",
        "    try:\n",
        "        if len(rules) != 2:\n",
        "            raise ValueError(\"Exactly two rules must be provided.\")\n",
        "\n",
        "        config = [random.randint(0, 1) for _ in range(size)]  # Random initial configuration\n",
        "        print_config(config)\n",
        "\n",
        "        for _ in range(time_steps):\n",
        "            config = evolve(config, rules)\n",
        "            print_config(config)\n",
        "    except ValueError as e:\n",
        "        print(f\"Error: {e}\")\n",
        "\n",
        "# Program Execution\n",
        "size = int(input(\"Enter size of the 1D Lattice: \"))  # Size of the one-dimensional lattice\n",
        "time_steps = int(input(\"Enter the number of time steps: \"))  # Number of time steps\n",
        "rules_input = input(\"Enter the two ECA rules separated by a comma: \")\n",
        "rules = [int(rule) for rule in rules_input.split(\",\")]  # Convert rules to integers\n",
        "\n",
        "run_hybrid_cellular_automaton(size, rules, time_steps)"
      ]
    },
    {
      "cell_type": "code",
      "source": [
        "#Input multiple ECA rules to alternate over the 1D Lattice\n",
        "import random\n",
        "\n",
        "def apply_rule(rule, neighborhood):\n",
        "    \"\"\"Apply the rule to the given neighborhood\"\"\"\n",
        "    return (rule >> int(''.join(map(str, neighborhood)), 2)) & 1\n",
        "\n",
        "def evolve(config, rules):\n",
        "    \"\"\"Evolve the hybrid cellular automaton for one time step\"\"\"\n",
        "    size = len(config)\n",
        "    new_config = config.copy()\n",
        "\n",
        "    for i in range(size):\n",
        "        # Determine the neighborhood for the current cell\n",
        "        if i == 0:\n",
        "            neighborhood = [0, config[i], config[i + 1]]\n",
        "        elif i == size - 1:\n",
        "            neighborhood = [config[i - 1], config[i], 0]\n",
        "        else:\n",
        "            neighborhood = [config[i - 1], config[i], config[i + 1]]\n",
        "\n",
        "        # Apply the corresponding rule to the neighborhood\n",
        "        rule_index = i % len(rules)\n",
        "        new_config[i] = apply_rule(rules[rule_index], neighborhood)\n",
        "\n",
        "    return new_config\n",
        "\n",
        "def print_config(config):\n",
        "    \"\"\"Print the current configuration\"\"\"\n",
        "    print(''.join(map(str, config)))\n",
        "\n",
        "def run_hybrid_cellular_automaton(size, rules, time_steps):\n",
        "    \"\"\"Run the hybrid cellular automaton for the given number of time steps\"\"\"\n",
        "    try:\n",
        "        if len(rules) < 2:\n",
        "            raise ValueError(\"At least two rules must be provided.\")\n",
        "\n",
        "        config = [random.randint(0, 1) for _ in range(size)]  # Random initial configuration\n",
        "        print_config(config)\n",
        "\n",
        "        for _ in range(time_steps):\n",
        "            config = evolve(config, rules)\n",
        "            print_config(config)\n",
        "    except ValueError as e:\n",
        "        print(f\"Error: {e}\")\n",
        "\n",
        "# Program Execution\n",
        "size = int(input(\"Enter size of the 1D Lattice: \"))  # Size of the one-dimensional lattice\n",
        "time_steps = int(input(\"Enter the number of time steps: \"))  # Number of time steps\n",
        "rules_input = input(\"Enter the ECA rules separated by a comma: \")\n",
        "rules = [int(rule) for rule in rules_input.split(\",\")]  # Convert rules to integers\n",
        "\n",
        "run_hybrid_cellular_automaton(size, rules, time_steps)"
      ],
      "metadata": {
        "id": "x96d2W8-1BwM"
      },
      "execution_count": null,
      "outputs": []
    }
  ]
}